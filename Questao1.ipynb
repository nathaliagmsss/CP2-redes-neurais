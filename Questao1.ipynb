{
  "nbformat": 4,
  "nbformat_minor": 0,
  "metadata": {
    "colab": {
      "provenance": [],
      "authorship_tag": "ABX9TyPePHTstzQJXlaklKbbDpKJ",
      "include_colab_link": true
    },
    "kernelspec": {
      "name": "python3",
      "display_name": "Python 3"
    },
    "language_info": {
      "name": "python"
    }
  },
  "cells": [
    {
      "cell_type": "markdown",
      "metadata": {
        "id": "view-in-github",
        "colab_type": "text"
      },
      "source": [
        "<a href=\"https://colab.research.google.com/github/nathaliagmsss/CP2-redes-neurais/blob/main/Questao1.ipynb\" target=\"_parent\"><img src=\"https://colab.research.google.com/assets/colab-badge.svg\" alt=\"Open In Colab\"/></a>"
      ]
    },
    {
      "cell_type": "code",
      "execution_count": null,
      "metadata": {
        "id": "hYFUZxEMl2bu"
      },
      "outputs": [],
      "source": [
        "# Questão 1\n",
        "\n",
        "#Dataset: Wine Dataset (UCI)\n",
        "\n",
        "#1. Treinar uma rede neural em Keras para classificar vinhos em 3 classes.\n",
        "\n",
        "#- Configuração mínima: 2 camadas ocultas com 32 neurônios cada, função de ativação ReLU.\n",
        "#- Camada de saída com 3 neurônios, função de ativação Softmax.\n",
        "#- Função de perda: categorical_crossentropy.\n",
        "#- Otimizador: Adam.\n",
        "\n",
        "#2. Comparar os resultados com um modelo do scikit-learn (RandomForestClassifier ou\n",
        "\n",
        "#LogisticRegression).\n",
        "\n",
        "#3. Registrar métricas de acurácia e discutir qual modelo teve melhor desempenho."
      ]
    },
    {
      "cell_type": "code",
      "source": [
        "import pandas as pd\n",
        "from sklearn.model_selection import train_test_split\n",
        "from sklearn.preprocessing import StandardScaler\n",
        "from sklearn.ensemble import RandomForestClassifier\n",
        "from sklearn.linear_model import LogisticRegression\n",
        "from sklearn.metrics import accuracy_score\n",
        "import tensorflow as tf\n",
        "from tensorflow import keras\n",
        "\n",
        "# Carregar o dataset do UCI\n",
        "# O dataset está disponível no Scikit-learn, o que facilita o carregamento.\n",
        "from sklearn.datasets import load_wine"
      ],
      "metadata": {
        "id": "1T1NcslMmbkw"
      },
      "execution_count": null,
      "outputs": []
    },
    {
      "cell_type": "code",
      "source": [
        "# Carregar o dataset do arquivo, especificando o separador (vírgula, neste caso)\n",
        "# e os nomes das colunas, já que o arquivo não tem cabeçalho.\n",
        "# O dataset original do UCI não tem cabeçalho, então precisamos adicionar os nomes.\n",
        "col_names = ['class', 'alcohol', 'malic_acid', 'ash', 'alcalinity_of_ash', 'magnesium', 'total_phenols', 'flavanoids', 'nonflavanoid_phenols', 'proanthocyanins', 'color_intensity', 'hue', 'od280/od315_of_diluted_wines', 'proline']\n",
        "df_wine = pd.read_csv('wine.data', header=None, names=col_names)\n",
        "\n",
        "# Separar as características (X) da variável alvo (y)\n",
        "X = df_wine.drop('class', axis=1)\n",
        "y = df_wine['class']\n",
        "\n",
        "# O Scikit-learn retorna as classes de 0 a 2, enquanto o dataset original do UCI\n",
        "# tem as classes 1, 2 e 3. Se quiser usar o código original, pode subtrair 1\n",
        "# para alinhar com o formato da Scikit-learn.\n",
        "y = y - 1"
      ],
      "metadata": {
        "id": "ddDMqR5rnfaE"
      },
      "execution_count": null,
      "outputs": []
    },
    {
      "cell_type": "code",
      "source": [
        "# Dividir os dados em treino e teste\n",
        "X_train, X_test, y_train, y_test = train_test_split(X, y, test_size=0.2, random_state=42)\n",
        "\n",
        "# Normalizar os dados (muito importante para redes neurais)\n",
        "scaler = StandardScaler()\n",
        "X_train_scaled = scaler.fit_transform(X_train)\n",
        "X_test_scaled = scaler.transform(X_test)"
      ],
      "metadata": {
        "id": "4U-j9Zc1nGY0"
      },
      "execution_count": null,
      "outputs": []
    },
    {
      "cell_type": "code",
      "source": [
        "# A camada de saída precisa de one-hot encoding para 'categorical_crossentropy'\n",
        "y_train_one_hot = keras.utils.to_categorical(y_train, num_classes=3)\n",
        "y_test_one_hot = keras.utils.to_categorical(y_test, num_classes=3)\n",
        "\n",
        "# Construção do modelo da rede neural\n",
        "model = keras.Sequential([\n",
        "    # Camada de entrada\n",
        "    keras.layers.InputLayer(input_shape=(X_train_scaled.shape[1],)),\n",
        "    # Primeira camada oculta\n",
        "    keras.layers.Dense(32, activation='relu'),\n",
        "    # Segunda camada oculta\n",
        "    keras.layers.Dense(32, activation='relu'),\n",
        "    # Camada de saída\n",
        "    keras.layers.Dense(3, activation='softmax')\n",
        "])\n",
        "\n",
        "# Compilar o modelo\n",
        "model.compile(optimizer='adam',\n",
        "              loss='categorical_crossentropy',\n",
        "              metrics=['accuracy'])\n",
        "\n",
        "# Treinar o modelo\n",
        "history = model.fit(X_train_scaled, y_train_one_hot, epochs=50, validation_split=0.1, verbose=0)\n",
        "\n",
        "# Avaliar o modelo no conjunto de teste\n",
        "loss_nn, accuracy_nn = model.evaluate(X_test_scaled, y_test_one_hot, verbose=0)\n",
        "print(f\"Acurácia da Rede Neural: {accuracy_nn:.4f}\")"
      ],
      "metadata": {
        "colab": {
          "base_uri": "https://localhost:8080/"
        },
        "id": "7txSZgvum7Qy",
        "outputId": "7a3bb6e0-ee12-4795-c8c8-38cf8593b371"
      },
      "execution_count": null,
      "outputs": [
        {
          "output_type": "stream",
          "name": "stderr",
          "text": [
            "/usr/local/lib/python3.12/dist-packages/keras/src/layers/core/input_layer.py:27: UserWarning: Argument `input_shape` is deprecated. Use `shape` instead.\n",
            "  warnings.warn(\n"
          ]
        },
        {
          "output_type": "stream",
          "name": "stdout",
          "text": [
            "Acurácia da Rede Neural: 1.0000\n"
          ]
        }
      ]
    },
    {
      "cell_type": "code",
      "source": [
        "#3. Treinamento e Avaliação do Modelo Scikit-learn\n",
        "\n",
        "#Opção 1: Random Forest Classifier\n",
        "\n",
        "# Criar e treinar o modelo Random Forest\n",
        "rf_model = RandomForestClassifier(n_estimators=100, random_state=32)\n",
        "rf_model.fit(X_train_scaled, y_train)\n",
        "\n",
        "# Fazer previsões e calcular a acurácia\n",
        "y_pred_rf = rf_model.predict(X_test_scaled)\n",
        "accuracy_rf = accuracy_score(y_test, y_pred_rf)\n",
        "print(f\"Acurácia do Random Forest: {accuracy_rf:.4f}\")"
      ],
      "metadata": {
        "colab": {
          "base_uri": "https://localhost:8080/"
        },
        "id": "Y2t_e0tbm9fw",
        "outputId": "101395e2-393f-4729-ba74-133d23928363"
      },
      "execution_count": null,
      "outputs": [
        {
          "output_type": "stream",
          "name": "stdout",
          "text": [
            "Acurácia do Random Forest: 1.0000\n"
          ]
        }
      ]
    },
    {
      "cell_type": "code",
      "source": [
        "# Avaliar no treino\n",
        "train_acc_rf = accuracy_score(y_train, rf_model.predict(X_train_scaled))\n",
        "print(f\"Acurácia Random Forest (treino): {train_acc_rf:.4f}\")\n",
        "print(f\"Acurácia Random Forest (teste): {accuracy_rf:.4f}\")\n",
        "\n",
        "# Validação cruzada (5 folds)\n",
        "from sklearn.model_selection import cross_val_score\n",
        "\n",
        "scores = cross_val_score(\n",
        "    RandomForestClassifier(n_estimators=100, random_state=32),\n",
        "    X, y, cv=5\n",
        ")\n",
        "print(\"Scores CV:\", scores)\n",
        "print(\"Média CV:\", scores.mean())\n"
      ],
      "metadata": {
        "colab": {
          "base_uri": "https://localhost:8080/"
        },
        "id": "WdPdFSNdnBCR",
        "outputId": "2d3b3a7c-dbe3-4e8c-aa78-3ac3384fe890"
      },
      "execution_count": null,
      "outputs": [
        {
          "output_type": "stream",
          "name": "stdout",
          "text": [
            "Acurácia Random Forest (treino): 1.0000\n",
            "Acurácia Random Forest (teste): 1.0000\n",
            "Scores CV: [1.         0.94444444 0.97222222 0.97142857 0.97142857]\n",
            "Média CV: 0.9719047619047618\n"
          ]
        }
      ]
    }
  ]
}